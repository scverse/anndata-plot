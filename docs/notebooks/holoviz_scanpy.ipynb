{
 "cells": [
  {
   "cell_type": "code",
   "execution_count": 1,
   "id": "194fd8b2-a02a-4e61-b068-9260f9e59012",
   "metadata": {},
   "outputs": [
    {
     "ename": "ModuleNotFoundError",
     "evalue": "No module named 'hv_cancer_modules'",
     "output_type": "error",
     "traceback": [
      "\u001b[0;31m---------------------------------------------------------------------------\u001b[0m",
      "\u001b[0;31mModuleNotFoundError\u001b[0m                       Traceback (most recent call last)",
      "Cell \u001b[0;32mIn[1], line 3\u001b[0m\n\u001b[1;32m      1\u001b[0m \u001b[38;5;28;01mimport\u001b[39;00m \u001b[38;5;21;01msys\u001b[39;00m\n\u001b[1;32m      2\u001b[0m sys\u001b[38;5;241m.\u001b[39mpath\u001b[38;5;241m.\u001b[39minsert(\u001b[38;5;241m0\u001b[39m, \u001b[38;5;124m'\u001b[39m\u001b[38;5;124m../..\u001b[39m\u001b[38;5;124m'\u001b[39m)\n\u001b[0;32m----> 3\u001b[0m \u001b[38;5;28;01mimport\u001b[39;00m \u001b[38;5;21;01mhv_cancer_modules\u001b[39;00m \u001b[38;5;28;01mas\u001b[39;00m \u001b[38;5;21;01mhvc\u001b[39;00m\n",
      "\u001b[0;31mModuleNotFoundError\u001b[0m: No module named 'hv_cancer_modules'"
     ]
    }
   ],
   "source": [
    "import sys\n",
    "sys.path.insert(0, '../..')\n",
    "import hv_cancer_modules as hvc"
   ]
  },
  {
   "cell_type": "code",
   "execution_count": null,
   "id": "f1990713-5968-4fc7-aeb6-5a842606fd8c",
   "metadata": {},
   "outputs": [],
   "source": [
    "%load_ext autoreload\n",
    "%autoreload 2\n",
    "\n",
    "import warnings\n",
    "warnings.simplefilter(action='ignore', category=FutureWarning)\n",
    "\n",
    "import numpy as np\n",
    "import pooch\n",
    "import scanpy as sc\n",
    "import anndata as ad\n",
    "\n",
    "import pandas as pd\n",
    "import hvplot.pandas #noqa\n",
    "import datashader as ds\n",
    "import colorcet as cc\n",
    "\n",
    "import holoviews as hv\n",
    "from holoviews.operation import datashader as hd\n",
    "\n",
    "hv.extension('bokeh')"
   ]
  },
  {
   "cell_type": "code",
   "execution_count": null,
   "id": "161629d6-b1b6-4faa-8bca-01a841e0ec10",
   "metadata": {},
   "outputs": [],
   "source": [
    "sc.settings.set_figure_params(dpi=50, facecolor=\"white\")"
   ]
  },
  {
   "attachments": {},
   "cell_type": "markdown",
   "id": "3211b168-0575-43fa-945c-405ee9438098",
   "metadata": {},
   "source": [
    "The data used in this basic preprocessing and clustering tutorial was collected from bone marrow mononuclear cells of healthy human donors and was part of [openproblem's NeurIPS 2021 benchmarking dataset](https://openproblems.bio/competitions/neurips_2021/) {cite}`Luecken2021`. The samples used in this tutorial were measured using the 10X Multiome Gene Expression and Chromatin Accessability kit. \n",
    "\n",
    "\n",
    "We are reading in the count matrix into an [AnnData](https://anndata.readthedocs.io/en/latest/tutorials/notebooks/getting-started.html) object, which holds many slots for annotations and different representations of the data."
   ]
  },
  {
   "cell_type": "code",
   "execution_count": null,
   "id": "f0448e97",
   "metadata": {},
   "outputs": [],
   "source": [
    "EXAMPLE_DATA = pooch.create(\n",
    "    path=pooch.os_cache(\"scverse_tutorials\"),\n",
    "    base_url=\"doi:10.6084/m9.figshare.22716739.v1/\",\n",
    ")\n",
    "EXAMPLE_DATA.load_registry_from_doi()"
   ]
  },
  {
   "cell_type": "code",
   "execution_count": null,
   "id": "9bdf7f10-e9b9-4929-a7e2-7ac373d769d1",
   "metadata": {},
   "outputs": [],
   "source": [
    "%%time\n",
    "\n",
    "samples = {\n",
    "    \"s1d1\": \"s1d1_filtered_feature_bc_matrix.h5\",\n",
    "    \"s1d3\": \"s1d3_filtered_feature_bc_matrix.h5\",\n",
    "}\n",
    "adatas = {}\n",
    "\n",
    "for sample_id, filename in samples.items():\n",
    "    path = EXAMPLE_DATA.fetch(filename)\n",
    "    sample_adata = sc.read_10x_h5(path)\n",
    "    sample_adata.var_names_make_unique()\n",
    "    adatas[sample_id] = sample_adata\n",
    "\n",
    "adata = ad.concat(adatas, label=\"sample\")\n",
    "adata.obs_names_make_unique()\n",
    "print(adata.obs[\"sample\"].value_counts())\n",
    "adata"
   ]
  },
  {
   "cell_type": "markdown",
   "id": "c673fe14-df28-4d53-abf6-3a852040e571",
   "metadata": {},
   "source": [
    "The data contains ~8,000 cells per sample and 36,601 measured genes. We'll now investigate these with a basic preprocessing and clustering workflow."
   ]
  },
  {
   "cell_type": "markdown",
   "id": "e306dde3-b587-4561-b5ec-e8a2ac5e2c13",
   "metadata": {},
   "source": [
    "## Quality Control"
   ]
  },
  {
   "attachments": {},
   "cell_type": "markdown",
   "id": "cd32b625-7f24-4b9c-9564-dd97c57dc1b2",
   "metadata": {},
   "source": [
    "The scanpy function {func}`~scanpy.pp.calculate_qc_metrics` calculates common quality control (QC) metrics, which are largely based on `calculateQCMetrics` from scater {cite}`McCarthy2017`. One can pass specific gene population to {func}`~scanpy.pp.calculate_qc_metrics` in order to calculate proportions of counts for these populations. Mitochondrial, ribosomal and hemoglobin genes are defined by distinct prefixes as listed below. "
   ]
  },
  {
   "cell_type": "code",
   "execution_count": null,
   "id": "75df4b20-29ca-4e12-a878-94698a1b67d2",
   "metadata": {},
   "outputs": [],
   "source": [
    "# mitochondrial genes, \"MT-\" for human, \"Mt-\" for mouse\n",
    "adata.var[\"mt\"] = adata.var_names.str.startswith(\"MT-\")\n",
    "# ribosomal genes\n",
    "adata.var[\"ribo\"] = adata.var_names.str.startswith((\"RPS\", \"RPL\"))\n",
    "# hemoglobin genes\n",
    "adata.var[\"hb\"] = adata.var_names.str.contains(\"^HB[^(P)]\")"
   ]
  },
  {
   "cell_type": "code",
   "execution_count": null,
   "id": "efd36ca1-75c7-4716-8766-a5571951537b",
   "metadata": {},
   "outputs": [],
   "source": [
    "sc.pp.calculate_qc_metrics(\n",
    "    adata, qc_vars=[\"mt\", \"ribo\", \"hb\"], inplace=True, log1p=True\n",
    ")"
   ]
  },
  {
   "cell_type": "markdown",
   "id": "b525671d-cfd3-4989-ad06-91c6edfa3af8",
   "metadata": {},
   "source": [
    "One can now inspect violin plots of some of the computed QC metrics:\n",
    "\n",
    "* the number of genes expressed in the count matrix\n",
    "* the total counts per cell\n",
    "* the percentage of counts in mitochondrial genes"
   ]
  },
  {
   "cell_type": "code",
   "execution_count": null,
   "id": "d9db90e7-57d8-4f78-b1f9-ffc3698df091",
   "metadata": {},
   "outputs": [],
   "source": [
    "adata"
   ]
  },
  {
   "cell_type": "code",
   "execution_count": null,
   "id": "8f8e3e58-a05a-4fd1-ab77-f3b14232dbf8",
   "metadata": {},
   "outputs": [],
   "source": [
    "sc.pl.violin(\n",
    "    adata,\n",
    "    [\"n_genes_by_counts\", \"total_counts\", \"pct_counts_mt\"],\n",
    "    jitter=0.4,\n",
    "    multi_panel=True,\n",
    ")"
   ]
  },
  {
   "cell_type": "markdown",
   "id": "e38975f8-b71f-435d-80e6-fbf5ce081091",
   "metadata": {},
   "source": [
    "With HoloViews, using the holoviews-anndata data interface:"
   ]
  },
  {
   "cell_type": "code",
   "execution_count": null,
   "id": "5599ee82-ed50-4adc-b39a-f88e7b3c8bd2",
   "metadata": {},
   "outputs": [],
   "source": [
    "violins = []\n",
    "for i in [\"obs.n_genes_by_counts\", \"obs.total_counts\", \"obs.pct_counts_mt\"]:\n",
    "    violins.append(\n",
    "        hv.Violin(adata, vdims=i).opts(\n",
    "            ylabel='Value',\n",
    "            title=i.split('.')[-1], # drop the 'obs.'\n",
    "            show_grid=True,\n",
    "            ylim=(0,None),\n",
    "        )\n",
    "    )\n",
    "hv.Layout(violins).opts(axiswise=True)"
   ]
  },
  {
   "cell_type": "markdown",
   "id": "7b78eec5-6b08-4d4f-9c54-a3688984b899",
   "metadata": {},
   "source": [
    "Additionally, it is useful to consider QC metrics jointly by inspecting a scatter plot colored by `pct_counts_mt`. "
   ]
  },
  {
   "cell_type": "code",
   "execution_count": null,
   "id": "6ddfd195-10cd-419d-b984-39bc29dfe56b",
   "metadata": {},
   "outputs": [],
   "source": [
    "sc.pl.scatter(adata, \"total_counts\", \"n_genes_by_counts\", color=\"pct_counts_mt\")"
   ]
  },
  {
   "cell_type": "markdown",
   "id": "06c01481-b221-4cfa-9c1c-7ab6c17d610e",
   "metadata": {},
   "source": [
    "With HoloViews:"
   ]
  },
  {
   "cell_type": "code",
   "execution_count": null,
   "id": "8fff58af-3f55-4646-8307-7975b18b9549",
   "metadata": {},
   "outputs": [],
   "source": [
    "scatter = (hv.Scatter(adata, \"obs.total_counts\", [\"obs.n_genes_by_counts\", \"obs.pct_counts_mt\"])\n",
    "    .opts(cmap=\"Viridis\",\n",
    "          color=\"obs.pct_counts_mt\",\n",
    "          colorbar=True,\n",
    "          width=400,\n",
    "          tools=['hover'],\n",
    "          show_grid=True,\n",
    "          title='pct_counts_mt',\n",
    "))\n",
    "\n",
    "# Optionally, apply rasterization/datashading\n",
    "rast_scatter = hd.rasterize(scatter)\n",
    "rast_scatter.opts(\n",
    "    cmap='Viridis',\n",
    "    xticks=[0, 50000, 100000, 150000],\n",
    "    padding=.05,\n",
    "    show_grid=True,\n",
    "    title='pct_counts_mt',\n",
    "    colorbar=True,\n",
    "    aspect=1,\n",
    "    frame_width=300,\n",
    "    tools=['hover'],\n",
    "    cnorm='eq_hist', # eq_hist normalizes the color range\n",
    ")"
   ]
  },
  {
   "cell_type": "markdown",
   "id": "2de6f565-7a2a-4ff5-a783-9dab32a007a2",
   "metadata": {},
   "source": [
    "Based on the QC metric plots, one could now remove cells that have too many mitochondrial genes expressed or too many total counts by setting manual or automatic thresholds. However, sometimes what appears to be poor QC metrics can be driven by real biology so we suggest starting with a very permissive filtering strategy and revisiting it at a later point. We therefore now only filter cells with less than 100 genes expressed and genes that are detected in less than 3 cells. \n",
    "\n",
    "Additionally, it is important to note that for datasets with multiple batches, quality control should be performed for each sample individually as quality control thresholds can very substantially between batches. "
   ]
  },
  {
   "cell_type": "code",
   "execution_count": null,
   "id": "61508aa7-31f1-403c-96c2-09460427bdae",
   "metadata": {},
   "outputs": [],
   "source": [
    "sc.pp.filter_cells(adata, min_genes=100)\n",
    "sc.pp.filter_genes(adata, min_cells=3)"
   ]
  },
  {
   "attachments": {},
   "cell_type": "markdown",
   "id": "71c53c35-7f0d-4c8d-90cc-fdc7687e828d",
   "metadata": {},
   "source": [
    "### Doublet detection\n",
    "\n",
    "As a next step, we run a doublet detection algorithm. Identifying doublets is crucial as they can lead to misclassifications or distortions in downstream analysis steps. Scanpy contains the doublet detection method Scrublet {cite}`Wolock2019`. Scrublet predicts cell doublets using a nearest-neighbor classifier of observed transcriptomes and simulated doublets. {func}`scanpy.pp.scrublet` adds `doublet_score` and `predicted_doublet` to `.obs`. One can now either filter directly on `predicted_doublet` or use the `doublet_score` later during clustering to filter clusters with high doublet scores. "
   ]
  },
  {
   "cell_type": "code",
   "execution_count": null,
   "id": "2bc52329-32e3-4c04-a5a6-be4184391219",
   "metadata": {},
   "outputs": [],
   "source": [
    "%%time\n",
    "\n",
    "sc.pp.scrublet(adata, batch_key=\"sample\")"
   ]
  },
  {
   "cell_type": "markdown",
   "id": "85bcdb2e",
   "metadata": {},
   "source": [
    "We can remove doublets by either filtering out the cells called as doublets, or waiting until we've done a clustering pass and filtering out any clusters with high doublet scores."
   ]
  },
  {
   "attachments": {},
   "cell_type": "markdown",
   "id": "eca84d9a-1da7-40c5-ab50-a6bbc5cd6955",
   "metadata": {},
   "source": [
    ":::{seealso}\n",
    "Alternative methods for doublet detection within the scverse ecosystem are [DoubletDetection](https://github.com/JonathanShor/DoubletDetection) and [SOLO](https://docs.scvi-tools.org/en/stable/user_guide/models/solo.html). You can read more about these in the [Doublet Detection chapter](https://www.sc-best-practices.org/preprocessing_visualization/quality_control.html#doublet-detection) of Single Cell Best Practices.\n",
    ":::"
   ]
  },
  {
   "cell_type": "markdown",
   "id": "31ae375a-5f9d-4ff6-a7b2-52d13d202fa8",
   "metadata": {},
   "source": [
    "## Normalization\n",
    "\n",
    "The next preprocessing step is normalization. A common approach is count depth scaling with subsequent log plus one (log1p) transformation. Count depth scaling normalizes the data to a “size factor” such as the median count depth in the dataset, ten thousand (CP10k) or one million (CPM, counts per million). The size factor for count depth scaling can be controlled via `target_sum` in `pp.normalize_total`. We are applying median count depth normalization with log1p transformation (AKA log1PF)."
   ]
  },
  {
   "cell_type": "code",
   "execution_count": null,
   "id": "7fe44a18",
   "metadata": {},
   "outputs": [],
   "source": [
    "# Saving count data\n",
    "adata.layers[\"counts\"] = adata.X.copy()"
   ]
  },
  {
   "cell_type": "code",
   "execution_count": null,
   "id": "053aed6d-f793-442d-afa8-46def6054b23",
   "metadata": {},
   "outputs": [],
   "source": [
    "# Normalizing to median total counts\n",
    "sc.pp.normalize_total(adata)\n",
    "# Logarithmize the data\n",
    "sc.pp.log1p(adata)"
   ]
  },
  {
   "attachments": {},
   "cell_type": "markdown",
   "id": "1f634d44-4e23-4e0f-96c0-443b3a5ffda9",
   "metadata": {},
   "source": [
    "## Feature selection\n",
    "\n",
    "As a next step, we want to reduce the dimensionality of the dataset and only include the most informative genes. This step is commonly known as feature selection. The scanpy function `pp.highly_variable_genes` annotates highly variable genes by reproducing the implementations of Seurat {cite}`Satija2015`, Cell Ranger {cite}`Zheng2017`, and Seurat v3 {cite}`Stuart2019` depending on the chosen `flavor`. "
   ]
  },
  {
   "cell_type": "code",
   "execution_count": null,
   "id": "6241df3f-a23b-4f06-8c4e-a2de39200f05",
   "metadata": {},
   "outputs": [],
   "source": [
    "sc.pp.highly_variable_genes(adata, n_top_genes=2000, batch_key=\"sample\")"
   ]
  },
  {
   "cell_type": "code",
   "execution_count": null,
   "id": "654984e9-e511-4e32-b025-054d41a1aabd",
   "metadata": {},
   "outputs": [],
   "source": [
    "sc.pl.highly_variable_genes(adata)"
   ]
  },
  {
   "cell_type": "markdown",
   "id": "092a4526-d821-451a-9dea-1e717591a06d",
   "metadata": {},
   "source": [
    "with HoloViews:"
   ]
  },
  {
   "cell_type": "code",
   "execution_count": null,
   "id": "d9de0e76-9a48-4149-a617-84697c57d36c",
   "metadata": {},
   "outputs": [],
   "source": [
    "variable_genes_norm = hv.Points(\n",
    "    adata,\n",
    "    ['var.means', 'var.dispersions_norm'], 'var.highly_variable',\n",
    ").opts(ylabel='dispersions of genes (normalized)')\n",
    "variable_genes = hv.Points(\n",
    "    adata,\n",
    "    ['var.means', 'var.dispersions'], 'var.highly_variable',\n",
    ").opts(ylabel='dispersions of genes (not normalized)')\n",
    "\n",
    "(hv.Layout((variable_genes_norm, variable_genes))\n",
    " .opts(hv.opts.Points(\n",
    "     color='var.highly_variable',\n",
    "     cmap=['grey', 'black'],\n",
    "     title='Hightly Variable Genes',\n",
    "     legend_position='bottom_right',\n",
    "     xlabel='mean expressions of genes',\n",
    "     tools=['hover'],\n",
    "     size=1,\n",
    "     show_grid=True,\n",
    "     alpha=.5,\n",
    " )\n",
    "      )\n",
    ")"
   ]
  },
  {
   "cell_type": "markdown",
   "id": "fe4e74b2-c177-47d1-b659-041e8b796231",
   "metadata": {},
   "source": [
    "## Dimensionality Reduction\n",
    "Reduce the dimensionality of the data by running principal component analysis (PCA), which reveals the main axes of variation and denoises the data."
   ]
  },
  {
   "cell_type": "code",
   "execution_count": null,
   "id": "5a4d36d8-3238-47a5-8950-049fd0473205",
   "metadata": {},
   "outputs": [],
   "source": [
    "sc.tl.pca(adata)"
   ]
  },
  {
   "attachments": {},
   "cell_type": "markdown",
   "id": "bb54e365-3989-432e-bce0-b0a8e46ac08c",
   "metadata": {},
   "source": [
    "Let us inspect the contribution of single PCs to the total variance in the data. This gives us information about how many PCs we should consider in order to compute the neighborhood relations of cells, e.g. used in the clustering function {func}`~scanpy.tl.leiden` or {func}`~scanpy.tl.tsne`. In our experience, there does not seem to be signifigant downside to overestimating the numer of principal components."
   ]
  },
  {
   "cell_type": "code",
   "execution_count": null,
   "id": "b38f1a27-6c1b-4160-b28e-e172bb325d4d",
   "metadata": {},
   "outputs": [],
   "source": [
    "sc.pl.pca_variance_ratio(adata, n_pcs=50, log=True)"
   ]
  },
  {
   "cell_type": "markdown",
   "id": "8730a4e2-a380-4649-a98c-f760bac5f4e0",
   "metadata": {},
   "source": [
    "with HoloViews:"
   ]
  },
  {
   "cell_type": "code",
   "execution_count": null,
   "id": "4446e660-5006-4ba6-a22e-49aea8375bb7",
   "metadata": {},
   "outputs": [],
   "source": [
    "# By definition, adata.uns objects do not share dims with `adata.X`, therefore are accessed directly (e.g. as arrays) for HoloViews.\n",
    "\n",
    "variance_ratio = adata.uns['pca']['variance_ratio']\n",
    "\n",
    "x_positions = np.arange(1, len(variance_ratio) + 1)\n",
    "labels = ['PC{}'.format(i) for i in range(1, len(variance_ratio) + 1)]\n",
    "\n",
    "points = hv.Points((x_positions, variance_ratio), ['Ranking', 'Variance Ratio']).opts(color='Variance Ratio', cmap='magma_r', size=6, tools=['hover'])\n",
    "label_overlay = hv.Labels((x_positions, variance_ratio, labels), ['x', 'y'], 'text').opts(\n",
    "    text_font_size='8pt', text_align='left', yoffset=.003, angle=90, text_color='black')\n",
    "\n",
    "var_ratio_plot = (points * label_overlay).opts(\n",
    "    width=600, height=400, xlabel='Ranking', ylabel=None, title='Variance Ratio', show_grid=True)\n",
    "\n",
    "var_ratio_plot"
   ]
  },
  {
   "cell_type": "markdown",
   "id": "fa711f1f",
   "metadata": {},
   "source": [
    "You can also plot the principal components to see if there are any potentially undesired features (e.g. batch, QC metrics) driving signifigant variation in this dataset. In this case, there isn't anything too alarming, but it's a good idea to explore this."
   ]
  },
  {
   "cell_type": "code",
   "execution_count": null,
   "id": "58f92649",
   "metadata": {},
   "outputs": [],
   "source": [
    "sc.pl.pca(\n",
    "    adata,\n",
    "    color=[\"sample\", \"sample\", \"pct_counts_mt\", \"pct_counts_mt\"],\n",
    "    dimensions=[(0, 1), (2, 3), (0, 1), (2, 3)],\n",
    "    ncols=2,\n",
    "    size=2,\n",
    ")"
   ]
  },
  {
   "cell_type": "markdown",
   "id": "a418abbe-65ec-45e6-96cc-aec409265a06",
   "metadata": {},
   "source": [
    "with hvPlot (convert to DataFrame):"
   ]
  },
  {
   "cell_type": "code",
   "execution_count": null,
   "id": "4f1e76ee-aaf3-4f5e-a481-c90ab6e11ed8",
   "metadata": {},
   "outputs": [],
   "source": [
    "pca_df = pd.DataFrame(adata.obsm[\"X_pca\"], columns=[f\"PCA{i+1}\" for i in range(adata.obsm[\"X_pca\"].shape[-1])], index=adata.obs_names)\n",
    "pca_df = pca_df.join(adata.obs)"
   ]
  },
  {
   "cell_type": "code",
   "execution_count": null,
   "id": "5046a1ec-3809-4aef-81a1-a96a7527de16",
   "metadata": {},
   "outputs": [],
   "source": [
    "hvplot_pca_opts = dict(\n",
    "    frame_width=200,\n",
    "    data_aspect=1,\n",
    "    tools=['hover'],\n",
    "    rasterize=True,\n",
    "    colorbar=False,\n",
    ")\n",
    "\n",
    "pca_p1 = pca_df.hvplot.points(\n",
    "    x=\"PCA1\",\n",
    "    y=\"PCA2\",\n",
    "    aggregator=ds.count_cat('sample'),\n",
    "    cmap=cc.b_glasbey_category10[:2],\n",
    "    title='sample',\n",
    "    **hvplot_pca_opts,\n",
    ")\n",
    "\n",
    "pca_p2 = pca_df.hvplot.points(\n",
    "    x=\"PCA3\",\n",
    "    y=\"PCA4\",\n",
    "    aggregator=ds.count_cat('sample'),\n",
    "    cmap=cc.b_glasbey_category10[:2],\n",
    "    title='sample',\n",
    "    **hvplot_pca_opts,\n",
    ")\n",
    "\n",
    "pca_p3 = pca_df.hvplot.points(\n",
    "    x=\"PCA1\",\n",
    "    y=\"PCA2\",\n",
    "    color='pct_counts_mt',\n",
    "    cmap='Viridis',\n",
    "    title='pct_counts_mt',\n",
    "    **hvplot_pca_opts,\n",
    ")\n",
    "\n",
    "pca_p4 = pca_df.hvplot.points(\n",
    "    x=\"PCA1\",\n",
    "    y=\"PCA2\",\n",
    "    color='pct_counts_mt',\n",
    "    cmap='Viridis',\n",
    "    title='pct_counts_mt',\n",
    "    **hvplot_pca_opts,\n",
    ")\n",
    "\n",
    "(pca_p1 + pca_p2 + pca_p3 + pca_p4).cols(2)"
   ]
  },
  {
   "cell_type": "markdown",
   "id": "fe0284e4-da4a-4bac-8587-5cc3e3fce5ae",
   "metadata": {},
   "source": [
    "with HoloViews V1 (layout):\n",
    "\n",
    "Since adata.obsm['X_pca'] is a 2D array, with a column per pca dim, we'll access the array data that we want directly rather than using the anndata interface.\n",
    "\n",
    "TODO: add adata.obs and selectively pass certain vdims to view other info in hover cols"
   ]
  },
  {
   "cell_type": "code",
   "execution_count": null,
   "id": "3232cfd8-6127-4757-b2d2-78bff833e583",
   "metadata": {},
   "outputs": [],
   "source": [
    "import holoviews.operation.datashader as hd\n",
    "import datashader as ds\n",
    "import colorcet as cc\n",
    "import panel as pn\n",
    "import numpy as np\n",
    "import holoviews as hv\n",
    "\n",
    "pn.extension()\n",
    "hv.extension('bokeh')\n",
    "\n",
    "def create_hv_dimreduction_plot(\n",
    "    x_data, color_data, x_dim, y_dim, color_var, xaxis_label, yaxis_label,\n",
    "    width=300, height=300, datashading=False, labels=False,\n",
    "    cont_cmap = 'Viridis',\n",
    "    cat_cmap = cc.b_glasbey_category10):\n",
    "    \"\"\"\n",
    "    Create a cluster points plot\n",
    "\n",
    "    Parameters:\n",
    "    - x_data: numpy.ndarray, shape n_obs by n_clusters\n",
    "    - x_dim, y_dim: int, indices into x_data's cluster dim to use as x or y data.\n",
    "    - color_data: numpy.ndarray, shape n_obs color values (categorical or continuous).\n",
    "    - color_var: str, the name to give the coloring dim.\n",
    "    - xaxis_label, yaxis_label: str, labels for the axes.\n",
    "    - width, height: int, dimensions of the plot.\n",
    "    - datashading: bool, whether to apply Datashader.\n",
    "    - labels: bool, whether to overlay labels at median positions.\n",
    "\n",
    "    \"\"\"\n",
    "    is_categorical = (\n",
    "        color_data.dtype.name in ['category', 'categorical', 'bool'] or\n",
    "        np.issubdtype(color_data.dtype, np.object_) or\n",
    "        np.issubdtype(color_data.dtype, np.str_)\n",
    "    )\n",
    "    \n",
    "    if is_categorical:\n",
    "        n_unq_cat = len(np.unique(color_data))\n",
    "        cmap = cat_cmap[:n_unq_cat]\n",
    "        colorbar = False\n",
    "        if labels:\n",
    "            show_legend = False\n",
    "        else:\n",
    "            show_legend = True\n",
    "    else:\n",
    "        cmap = cont_cmap\n",
    "        show_legend = False\n",
    "        colorbar = True\n",
    "\n",
    "    plot = hv.Points(\n",
    "        (x_data[:, x_dim], x_data[:, y_dim], color_data),\n",
    "        [xaxis_label, yaxis_label], color_var\n",
    "    )\n",
    "\n",
    "    plot_opts = dict(\n",
    "        color=color_var,\n",
    "        cmap=cmap,\n",
    "        size=1,\n",
    "        alpha=0.5,\n",
    "        colorbar=colorbar,\n",
    "        padding=0,\n",
    "        tools=['hover'],\n",
    "        show_legend=show_legend,\n",
    "    )\n",
    "\n",
    "    label_opts = dict(\n",
    "        text_font_size='8pt',\n",
    "        text_color='black'\n",
    "    )\n",
    "\n",
    "    if datashading:\n",
    "        if is_categorical:\n",
    "            aggregator = ds.count_cat(color_var)\n",
    "            plot = hd.rasterize(plot, aggregator=aggregator)\n",
    "            plot = hd.dynspread(plot, threshold=0.5)\n",
    "            plot = plot.opts(cmap=cmap, tools=['hover'])\n",
    "\n",
    "            if labels:\n",
    "                unique_categories = np.unique(color_data)\n",
    "                labels_data = []\n",
    "                for cat in unique_categories:\n",
    "                    mask = color_data == cat\n",
    "                    median_x = np.median(x_data[mask, x_dim])\n",
    "                    median_y = np.median(x_data[mask, y_dim])\n",
    "                    labels_data.append((median_x, median_y, str(cat)))\n",
    "                labels_element = hv.Labels(labels_data, [xaxis_label, yaxis_label], 'Label').opts(**label_opts)\n",
    "                plot = plot * labels_element\n",
    "            else:\n",
    "                # Create a custom legend with dummy scatter plot hack\n",
    "                unique_categories = np.unique(color_data)\n",
    "                color_key = dict(zip(unique_categories, cmap[:len(unique_categories)]))\n",
    "                legend_items = [\n",
    "                    hv.Points([0,0], label=str(cat)).opts(\n",
    "                        color=color_key[cat],\n",
    "                        size=0\n",
    "                    ) for cat in unique_categories\n",
    "                ]\n",
    "                legend = hv.NdOverlay({str(cat): item for cat, item in zip(unique_categories, legend_items)}).opts(\n",
    "                    show_legend=True,\n",
    "                    legend_position='right',\n",
    "                    legend_limit=1000,\n",
    "                    legend_cols= len(unique_categories) // 8,\n",
    "                )\n",
    "                plot = plot * legend\n",
    "\n",
    "        else:\n",
    "            aggregator = ds.mean(color_var)\n",
    "            plot = hd.rasterize(plot, aggregator=aggregator)\n",
    "            plot = hd.dynspread(plot, threshold=0.5)\n",
    "            plot = plot.opts(cmap=cmap, colorbar=colorbar)\n",
    "    else:\n",
    "        plot = plot.opts(**plot_opts)\n",
    "        if is_categorical and labels:\n",
    "            unique_categories = np.unique(color_data)\n",
    "            labels_data = []\n",
    "            for cat in unique_categories:\n",
    "                mask = color_data == cat\n",
    "                median_x = np.median(x_data[mask, x_dim])\n",
    "                median_y = np.median(x_data[mask, y_dim])\n",
    "                labels_data.append((median_x, median_y, str(cat)))\n",
    "            labels_element = (hv.Labels(labels_data, [xaxis_label, yaxis_label], 'Label')\n",
    "                              .opts(**label_opts)\n",
    "                             )\n",
    "            plot = plot * labels_element\n",
    "\n",
    "    return plot.opts(\n",
    "        title=f\"{color_var}\",\n",
    "        tools=['hover'],\n",
    "        show_legend=show_legend,\n",
    "        frame_width=width,\n",
    "        frame_height=height\n",
    "    )\n",
    "\n",
    "def layout_dimreduction_plots(adata, color, dimensions, width=200, height=200, dim_reduction='X_pca', labels=False):\n",
    "    dr_key = dim_reduction\n",
    "    dr_label = dr_key.split('_')[1].upper()\n",
    "    plots = []\n",
    "    x_data = adata.obsm[dr_key]\n",
    "    for color_var, (x_dim, y_dim) in zip(color, dimensions):\n",
    "        try: # color per derived obs\n",
    "            color_data = adata.obs[color_var].values\n",
    "        except: # color per gene expression\n",
    "            color_data = adata.X.getcol(adata.var_names.get_loc(color_var)).toarray().flatten()\n",
    "        plot = create_hv_dimreduction_plot(\n",
    "            x_data, color_data, x_dim, y_dim, color_var,\n",
    "            f'{dr_label}{x_dim + 1}', f'{dr_label}{y_dim + 1}',\n",
    "            width=width,\n",
    "            height=height,\n",
    "            datashading=True,\n",
    "            labels=labels,\n",
    "        )\n",
    "        plots.append(plot)\n",
    "    return hv.Layout(plots).opts(shared_axes=False, axiswise=True)"
   ]
  },
  {
   "cell_type": "code",
   "execution_count": null,
   "id": "b4d07f3e-9457-4bee-8d31-8d8cc86c8bb3",
   "metadata": {},
   "outputs": [],
   "source": [
    "layout = layout_dimreduction_plots(\n",
    "    adata=adata,\n",
    "    color=[\"sample\", \"sample\", \"pct_counts_mt\", \"pct_counts_mt\"],\n",
    "    dimensions=[(0, 1), (2, 3), (0, 1), (2, 3)],\n",
    "    dim_reduction='X_pca',\n",
    "    labels=False\n",
    ")\n",
    "layout.cols(2)"
   ]
  },
  {
   "cell_type": "markdown",
   "id": "5058451b-446d-4ecf-8121-900fa7d3d612",
   "metadata": {},
   "source": [
    "with HoloViews v2 (UI for axes and coloring):"
   ]
  },
  {
   "cell_type": "code",
   "execution_count": null,
   "id": "9b840f5b-8094-4dd0-b8b4-e3f7deecd860",
   "metadata": {},
   "outputs": [],
   "source": [
    "from panel.io import hold\n",
    "\n",
    "def dimreduction_app(\n",
    "    adata,\n",
    "    dim_reduction=None,\n",
    "    color_by=None,\n",
    "    datashade=True,\n",
    "    show_widgets=True,\n",
    "    width=200,\n",
    "    height=200,\n",
    "    labels=False,\n",
    "):\n",
    "    \n",
    "    color_options = list(adata.obs.columns)\n",
    "    default_color = color_by or color_options[0]\n",
    "\n",
    "    # Map dimension reduction methods to their labels\n",
    "    dr_options = {key: key.split('_')[1].upper() for key in adata.obsm.keys()}\n",
    "    default_dr = dim_reduction or list(dr_options.keys())[0]\n",
    "\n",
    "    x_data = adata.obsm[default_dr]\n",
    "    num_dims = x_data.shape[1]\n",
    "\n",
    "    dr_label = dr_options[default_dr]\n",
    "    dim_labels = [f\"{dr_label}{i+1}\" for i in range(num_dims)]\n",
    "    dim_mapping = {label: index for index, label in enumerate(dim_labels)}\n",
    "\n",
    "    dr_select = pn.widgets.Select(\n",
    "        name='Dim Reduction', options=list(dr_options.keys()), value=default_dr\n",
    "    )\n",
    "    xaxis = pn.widgets.Select(name='X-axis', options=dim_labels, value=dim_labels[0])\n",
    "    yaxis = pn.widgets.Select(name='Y-axis', options=dim_labels, value=dim_labels[1])\n",
    "    color = pn.widgets.Select(name='Color By', options=color_options, value=default_color)\n",
    "    datashading_switch = pn.widgets.Checkbox(name='Enable Datashader', value=datashade)\n",
    "\n",
    "    def update_plot(dr_select_value, xaxis_value, yaxis_value, color_value, datashading_value):\n",
    "        x_data = adata.obsm[dr_select_value]\n",
    "        dr_label = dr_options[dr_select_value]\n",
    "        num_dims = x_data.shape[1]\n",
    "        dim_labels = [f\"{dr_label}{i+1}\" for i in range(num_dims)]\n",
    "        dim_mapping = {label: index for index, label in enumerate(dim_labels)}\n",
    "\n",
    "        x_dim = dim_mapping[xaxis_value]\n",
    "        y_dim = dim_mapping[yaxis_value]\n",
    "        color_data = adata.obs[color_value].values\n",
    "\n",
    "        return create_hv_dimreduction_plot(\n",
    "            x_data,\n",
    "            color_data,\n",
    "            x_dim,\n",
    "            y_dim,\n",
    "            color_value,\n",
    "            xaxis_value,\n",
    "            yaxis_value,\n",
    "            width=width,\n",
    "            height=height,\n",
    "            datashading=datashading_value,\n",
    "            labels=labels,\n",
    "        )\n",
    "\n",
    "    plot_pane = pn.bind(\n",
    "        update_plot,\n",
    "        dr_select_value=dr_select,\n",
    "        xaxis_value=xaxis,\n",
    "        yaxis_value=yaxis,\n",
    "        color_value=color,\n",
    "        datashading_value=datashading_switch,\n",
    "    )\n",
    "\n",
    "    @hold()\n",
    "    def update_axis_options(event):\n",
    "        x_data = adata.obsm[event.new]\n",
    "        num_dims = x_data.shape[1]\n",
    "        dr_label = dr_options[event.new]\n",
    "        new_dim_labels = [f\"{dr_label}{i+1}\" for i in range(num_dims)]\n",
    "        xaxis.options = new_dim_labels\n",
    "        yaxis.options = new_dim_labels\n",
    "        xaxis.value = new_dim_labels[0]\n",
    "        yaxis.value = new_dim_labels[1]\n",
    "\n",
    "    dr_select.param.watch(update_axis_options, 'value')\n",
    "\n",
    "    # Ensure x-axis and y-axis selections are different\n",
    "    def enforce_different_axes(event):\n",
    "        if xaxis.value == yaxis.value:\n",
    "            available_options = [opt for opt in yaxis.options if opt != xaxis.value]\n",
    "            if available_options:\n",
    "                yaxis.value = available_options[0]\n",
    "\n",
    "    xaxis.param.watch(enforce_different_axes, 'value')\n",
    "    yaxis.param.watch(enforce_different_axes, 'value')\n",
    "\n",
    "    widgets = pn.WidgetBox(dr_select, xaxis, yaxis, color, datashading_switch)\n",
    "    if show_widgets:\n",
    "        app = pn.Row(widgets, plot_pane)\n",
    "    else:\n",
    "        app = pn.Row(plot_pane)\n",
    "    return app\n"
   ]
  },
  {
   "cell_type": "code",
   "execution_count": null,
   "id": "2cfbedbc-90fd-4399-bc75-4d41e3bead88",
   "metadata": {},
   "outputs": [],
   "source": [
    "dimreduction_app(adata, dim_reduction='X_pca', color_by='sample', show_widgets=True)"
   ]
  },
  {
   "cell_type": "markdown",
   "id": "27147fca-c120-468d-8a5c-6479ece27848",
   "metadata": {},
   "source": [
    "## Nearest neighbor graph constuction and visualization\n",
    "\n",
    "Let us compute the neighborhood graph of cells using the PCA representation of the data matrix."
   ]
  },
  {
   "cell_type": "code",
   "execution_count": null,
   "id": "ce3adfa7-0be0-4232-88fa-e0540c5c3319",
   "metadata": {},
   "outputs": [],
   "source": [
    "sc.pp.neighbors(adata)"
   ]
  },
  {
   "cell_type": "markdown",
   "id": "5a0f7719-e418-401a-b006-c1eb524d7a2e",
   "metadata": {},
   "source": [
    "This graph can then be embedded in two dimensions for visualiztion with UMAP (McInnes et al., 2018):"
   ]
  },
  {
   "cell_type": "code",
   "execution_count": null,
   "id": "0d0151a0-ce62-40e6-ba1b-2f4505b6b4b4",
   "metadata": {},
   "outputs": [],
   "source": [
    "sc.tl.umap(adata)"
   ]
  },
  {
   "cell_type": "markdown",
   "id": "857f818f-66c7-40c7-b834-47cf5f02a1fa",
   "metadata": {},
   "source": [
    "We can now visualize the UMAP according to the `sample`. "
   ]
  },
  {
   "cell_type": "code",
   "execution_count": null,
   "id": "74aba38e-9c07-484b-a222-5f2ec108e7b2",
   "metadata": {},
   "outputs": [],
   "source": [
    "sc.pl.umap(\n",
    "    adata,\n",
    "    color=\"sample\",\n",
    "    # Setting a smaller point size to prevent overlap\n",
    "    size=2,\n",
    ")"
   ]
  },
  {
   "cell_type": "markdown",
   "id": "9d336906-9a29-41cb-a8ef-3258e1d4e9bb",
   "metadata": {},
   "source": [
    "with HoloViews:"
   ]
  },
  {
   "cell_type": "code",
   "execution_count": null,
   "id": "1573d42d-7a9d-4dd8-b53a-65779d209e6e",
   "metadata": {},
   "outputs": [],
   "source": [
    "layout = layout_dimreduction_plots(\n",
    "    adata=adata,\n",
    "    color=[\"sample\"],\n",
    "    dimensions=[(0, 1)],\n",
    "    dim_reduction='X_umap'\n",
    ")\n",
    "layout"
   ]
  },
  {
   "cell_type": "markdown",
   "id": "e18d7419-b48c-475f-828c-23c0a0720561",
   "metadata": {},
   "source": [
    "or with widgets:"
   ]
  },
  {
   "cell_type": "code",
   "execution_count": null,
   "id": "4af4193a-cc23-4bf2-8d90-dec26a958800",
   "metadata": {},
   "outputs": [],
   "source": [
    "dimreduction_app(adata, dim_reduction='X_umap')"
   ]
  },
  {
   "attachments": {},
   "cell_type": "markdown",
   "id": "6d472937-b5b8-4d38-88d5-2af4d0718f1e",
   "metadata": {},
   "source": [
    "Even though the data considered in this tutorial includes two different samples, we only observe a minor batch effect and we can continue with clustering and annotation of our data. \n",
    "\n",
    "If you inspect batch effects in your UMAP it can be beneficial to integrate across samples and perform batch correction/integration. We recommend checking out [`scanorama`](https://github.com/brianhie/scanorama) and [`scvi-tools`](https://scvi-tools.org) for batch integration."
   ]
  },
  {
   "attachments": {},
   "cell_type": "markdown",
   "id": "358da4af-c7ed-4479-87a7-ecd9d9765e1a",
   "metadata": {},
   "source": [
    "## Clustering\n",
    "\n",
    "As with Seurat and many other frameworks, we recommend the Leiden graph-clustering method (community detection based on optimizing modularity) {cite}`Traag2019`. Note that Leiden clustering directly clusters the neighborhood graph of cells, which we already computed in the previous section."
   ]
  },
  {
   "cell_type": "code",
   "execution_count": null,
   "id": "11bb19be-3df1-4a17-ad84-16b50a9348ea",
   "metadata": {},
   "outputs": [],
   "source": [
    "%%time\n",
    "\n",
    "# Using the igraph implementation and a fixed number of iterations can be significantly faster, especially for larger datasets\n",
    "sc.tl.leiden(adata, flavor=\"igraph\", n_iterations=2)"
   ]
  },
  {
   "cell_type": "code",
   "execution_count": null,
   "id": "e616f3f6-69f8-4c66-ac00-48d328dcf755",
   "metadata": {},
   "outputs": [],
   "source": [
    "sc.pl.umap(adata, color=[\"leiden\"])"
   ]
  },
  {
   "cell_type": "markdown",
   "id": "210bf47c-64be-4a37-a6ef-dc869c4db352",
   "metadata": {},
   "source": [
    "with HoloViews:"
   ]
  },
  {
   "cell_type": "code",
   "execution_count": null,
   "id": "b587a995-df5b-4f20-bfcd-5df259b3fe1b",
   "metadata": {},
   "outputs": [],
   "source": [
    "dimreduction_app(adata, dim_reduction='X_umap', color_by='leiden')"
   ]
  },
  {
   "cell_type": "markdown",
   "id": "7d7410a1-333a-4f21-b53e-91af768b07c7",
   "metadata": {},
   "source": [
    "## Re-assess quality control and cell filtering \n",
    "\n",
    "As indicated before, we will now re-assess our filtering strategy by visualizing different QC metrics using UMAP. "
   ]
  },
  {
   "cell_type": "code",
   "execution_count": null,
   "id": "c1818fbe-0e7d-467f-bdd1-3b690c32ad26",
   "metadata": {},
   "outputs": [],
   "source": [
    "sc.pl.umap(\n",
    "    adata,\n",
    "    color=[\"leiden\", \"predicted_doublet\", \"doublet_score\"],\n",
    "    # increase horizontal space between panels\n",
    "    wspace=0.5,\n",
    "    size=3,\n",
    ")"
   ]
  },
  {
   "cell_type": "code",
   "execution_count": null,
   "id": "d8c255f6-29b6-4c0a-bd52-d080bb4802be",
   "metadata": {},
   "outputs": [],
   "source": [
    "layout = layout_dimreduction_plots(\n",
    "    adata=adata,\n",
    "    color=[\"leiden\", \"predicted_doublet\", \"doublet_score\"],\n",
    "    dimensions=[(0, 1)] *3,\n",
    "    dim_reduction='X_umap',\n",
    ")\n",
    "layout"
   ]
  },
  {
   "cell_type": "code",
   "execution_count": null,
   "id": "91ad2b94-ab9b-48a3-aa0c-551203d3cf91",
   "metadata": {},
   "outputs": [],
   "source": [
    "sc.pl.umap(\n",
    "    adata,\n",
    "    color=[\"leiden\", \"log1p_total_counts\", \"pct_counts_mt\", \"log1p_n_genes_by_counts\"],\n",
    "    wspace=0.5,\n",
    "    ncols=2,\n",
    ")"
   ]
  },
  {
   "cell_type": "code",
   "execution_count": null,
   "id": "c2f2ceea-81d3-406e-bc76-45baf05c4426",
   "metadata": {},
   "outputs": [],
   "source": [
    "layout = layout_dimreduction_plots(\n",
    "    adata=adata,\n",
    "    color=[\"leiden\", \"log1p_total_counts\", \"pct_counts_mt\", \"log1p_n_genes_by_counts\"],\n",
    "    dimensions=[(0, 1)]*4,\n",
    "    dim_reduction='X_umap',\n",
    ")\n",
    "layout.cols(2)"
   ]
  },
  {
   "cell_type": "markdown",
   "id": "dece397a-e473-4633-b552-a7e430095c10",
   "metadata": {
    "tags": []
   },
   "source": [
    "## Manual cell-type annotation"
   ]
  },
  {
   "cell_type": "markdown",
   "id": "d5e54a09",
   "metadata": {},
   "source": [
    ":::{note}\n",
    "This section of the tutorial is expanded upon using prior knowledge resources like automated assignment and gene enrichment in the scverse tutorial [here](https://scverse-tutorials.readthedocs.io/en/latest/notebooks/basic-scrna-tutorial.html#cell-type-annotation)\n",
    ":::"
   ]
  },
  {
   "cell_type": "markdown",
   "id": "1ff5d831",
   "metadata": {},
   "source": [
    "Cell type annotation is laborous and repetitive task, one which typically requires multiple rounds of subclustering and re-annotation. It's difficult to show the entirety of the process in this tutorial, but we aim to show how the tools scanpy provides assist in this process."
   ]
  },
  {
   "cell_type": "markdown",
   "id": "fc966c08-e87e-499a-9a9e-db40b243deb9",
   "metadata": {},
   "source": [
    "We have now reached a point where we have obtained a set of cells with decent quality, and we can proceed to their annotation to known cell types. Typically, this is done using genes that are exclusively expressed by a given cell type, or in other words these genes are the marker genes of the cell types, and are thus used to distinguish the heterogeneous groups of cells in our data. Previous efforts have collected and curated various marker genes into available resources, such as [CellMarker](http://bio-bigdata.hrbmu.edu.cn/CellMarker/), [TF-Marker](http://bio.liclab.net/TF-Marker/), and [PanglaoDB](https://panglaodb.se/). The [cellxgene gene expression tool](https://cellxgene.cziscience.com/gene-expression) can also be quite useful to see which cell types a gene has been expressed in across many existing datasets."
   ]
  },
  {
   "cell_type": "markdown",
   "id": "f6bc8b4d-dd05-41c2-befd-048a5eea6afd",
   "metadata": {},
   "source": [
    "Commonly and classically, cell type annotation uses those marker genes subsequent to the grouping of the cells into clusters. So, let's generate a set of clustering solutions which we can then use to annotate our cell types. Here, we will use the Leiden clustering algorithm which will extract cell communities from our nearest neighbours graph."
   ]
  },
  {
   "cell_type": "code",
   "execution_count": null,
   "id": "148a1050-a073-4d82-b568-3cb943f9fd34",
   "metadata": {},
   "outputs": [],
   "source": [
    "for res in [0.02, 0.5, 2.0]:\n",
    "    sc.tl.leiden(\n",
    "        adata, key_added=f\"leiden_res_{res:4.2f}\", resolution=res, flavor=\"igraph\"\n",
    "    )"
   ]
  },
  {
   "cell_type": "markdown",
   "id": "dbffb2d3-e8fe-4bfb-aa8a-8d490254dcb1",
   "metadata": {},
   "source": [
    "Notably, the number of clusters that we define is largely arbitrary, and so is the `resolution` parameter that we use to control for it. As such, the number of clusters is ultimately bound to the stable and biologically-meaningful groups that we can ultimately distringuish, typically done by experts in the corresponding field or by using expert-curated prior knowledge in the form of markers."
   ]
  },
  {
   "cell_type": "code",
   "execution_count": null,
   "id": "b1275cb4-9f1e-4f37-8c90-eb5d0abd679c",
   "metadata": {},
   "outputs": [],
   "source": [
    "sc.pl.umap(\n",
    "    adata,\n",
    "    color=[\"leiden_res_0.02\", \"leiden_res_0.50\", \"leiden_res_2.00\"],\n",
    "    legend_loc=\"on data\",\n",
    ")"
   ]
  },
  {
   "cell_type": "code",
   "execution_count": null,
   "id": "72c2233d-0857-4659-a922-116265172235",
   "metadata": {},
   "outputs": [],
   "source": [
    "layout = layout_dimreduction_plots(\n",
    "    adata=adata,\n",
    "    color=[\"leiden_res_0.02\", \"leiden_res_0.50\", \"leiden_res_2.00\"],\n",
    "    dimensions=[(0, 1)]*3,\n",
    "    dim_reduction='X_umap',\n",
    "    labels=True,\n",
    ")\n",
    "layout"
   ]
  },
  {
   "cell_type": "markdown",
   "id": "c5ca6a0e-c46c-4b7d-859f-e9c971f05d5a",
   "metadata": {},
   "source": [
    "Though UMAPs should not be over-interpreted, here we can already see that in the highest resolution our data is over-clustered, while the lowest resolution is likely grouping cells which belong to distinct cell identities."
   ]
  },
  {
   "cell_type": "markdown",
   "id": "d7cac979-c45d-4639-ac0a-18f85aa383e1",
   "metadata": {},
   "source": [
    "### Marker gene set"
   ]
  },
  {
   "cell_type": "markdown",
   "id": "fbc891a7-e0e8-45e8-97d9-46eb74f55cde",
   "metadata": {},
   "source": [
    "Let's define a set of marker genes for the main cell types that we expect to see in this dataset. These were adapted from [Single Cell Best Practices annotation chapter](https://www.sc-best-practices.org/cellular_structure/annotation.html), for a more detailed overview and best practices in cell type annotation, we refer the user to it."
   ]
  },
  {
   "cell_type": "code",
   "execution_count": null,
   "id": "c4b1f83e-c4e2-48e4-954f-72abac5b5b21",
   "metadata": {},
   "outputs": [],
   "source": [
    "marker_genes = {\n",
    "    \"CD14+ Mono\": [\"FCN1\", \"CD14\"],\n",
    "    \"CD16+ Mono\": [\"TCF7L2\", \"FCGR3A\", \"LYN\"],\n",
    "    # Note: DMXL2 should be negative\n",
    "    \"cDC2\": [\"CST3\", \"COTL1\", \"LYZ\", \"DMXL2\", \"CLEC10A\", \"FCER1A\"],\n",
    "    \"Erythroblast\": [\"MKI67\", \"HBA1\", \"HBB\"],\n",
    "    # Note HBM and GYPA are negative markers\n",
    "    \"Proerythroblast\": [\"CDK6\", \"SYNGR1\", \"HBM\", \"GYPA\"],\n",
    "    \"NK\": [\"GNLY\", \"NKG7\", \"CD247\", \"FCER1G\", \"TYROBP\", \"KLRG1\", \"FCGR3A\"],\n",
    "    \"ILC\": [\"ID2\", \"PLCG2\", \"GNLY\", \"SYNE1\"],\n",
    "    \"Naive CD20+ B\": [\"MS4A1\", \"IL4R\", \"IGHD\", \"FCRL1\", \"IGHM\"],\n",
    "    # Note IGHD and IGHM are negative markers\n",
    "    \"B cells\": [\n",
    "        \"MS4A1\",\n",
    "        \"ITGB1\",\n",
    "        \"COL4A4\",\n",
    "        \"PRDM1\",\n",
    "        \"IRF4\",\n",
    "        \"PAX5\",\n",
    "        \"BCL11A\",\n",
    "        \"BLK\",\n",
    "        \"IGHD\",\n",
    "        \"IGHM\",\n",
    "    ],\n",
    "    \"Plasma cells\": [\"MZB1\", \"HSP90B1\", \"FNDC3B\", \"PRDM1\", \"IGKC\", \"JCHAIN\"],\n",
    "    # Note PAX5 is a negative marker\n",
    "    \"Plasmablast\": [\"XBP1\", \"PRDM1\", \"PAX5\"],\n",
    "    \"CD4+ T\": [\"CD4\", \"IL7R\", \"TRBC2\"],\n",
    "    \"CD8+ T\": [\"CD8A\", \"CD8B\", \"GZMK\", \"GZMA\", \"CCL5\", \"GZMB\", \"GZMH\", \"GZMA\"],\n",
    "    \"T naive\": [\"LEF1\", \"CCR7\", \"TCF7\"],\n",
    "    \"pDC\": [\"GZMB\", \"IL3RA\", \"COBLL1\", \"TCF4\"],\n",
    "}"
   ]
  },
  {
   "cell_type": "code",
   "execution_count": null,
   "id": "96995645-6024-4663-ad45-79e7e3aaea1a",
   "metadata": {},
   "outputs": [],
   "source": [
    "sc.pl.dotplot(adata, marker_genes, groupby=\"leiden_res_0.02\", standard_scale=\"var\")"
   ]
  },
  {
   "cell_type": "markdown",
   "id": "598a8405-5342-4fbf-9251-4e104dba102d",
   "metadata": {},
   "source": [
    "with HoloViews:"
   ]
  },
  {
   "cell_type": "code",
   "execution_count": null,
   "id": "f5a7e8ae-a686-4bb2-aecc-845098d329f1",
   "metadata": {},
   "outputs": [],
   "source": [
    "hvc.DotPlot(\n",
    "    adata=adata,\n",
    "    marker_genes=marker_genes,\n",
    "    groupby='leiden_res_0.02',\n",
    "    max_dot_size=10,\n",
    ")"
   ]
  },
  {
   "cell_type": "code",
   "execution_count": null,
   "id": "328688b0-8644-4d14-94e2-8864f3d74f52",
   "metadata": {},
   "outputs": [],
   "source": [
    "# TODO: add hierarchical ticks\n",
    "# TODO: add dot size legend"
   ]
  },
  {
   "cell_type": "markdown",
   "id": "e90fcd55",
   "metadata": {},
   "source": [
    "There are fairly clear patterns of expression for our markers show here, which we can use to label our coarsest clustering with broad lineages."
   ]
  },
  {
   "cell_type": "code",
   "execution_count": null,
   "id": "45b3f608",
   "metadata": {},
   "outputs": [],
   "source": [
    "adata.obs[\"cell_type_lvl1\"] = adata.obs[\"leiden_res_0.02\"].map(\n",
    "    {\n",
    "        \"0\": \"Lymphocytes\",\n",
    "        \"1\": \"Monocytes\",\n",
    "        \"2\": \"Erythroid\",\n",
    "        \"3\": \"B Cells\",\n",
    "    }\n",
    ")"
   ]
  },
  {
   "cell_type": "code",
   "execution_count": null,
   "id": "a49acdff-5606-4979-b08f-e6e314b782a1",
   "metadata": {},
   "outputs": [],
   "source": [
    "sc.pl.dotplot(adata, marker_genes, groupby=\"leiden_res_0.50\", standard_scale=\"var\")"
   ]
  },
  {
   "cell_type": "code",
   "execution_count": null,
   "id": "3de79e0b-14c9-48bd-8780-b4b54ec3e37b",
   "metadata": {},
   "outputs": [],
   "source": [
    "hvc.DotPlot(\n",
    "    adata=adata,\n",
    "    marker_genes=marker_genes,\n",
    "    groupby=\"cell_type_lvl1\",\n",
    "    max_dot_size=10,\n",
    ").opts(height=150, width=1200, responsive=False)"
   ]
  },
  {
   "cell_type": "markdown",
   "id": "3f6b34f4-2c5f-48ba-8b59-d0838ac1bfa3",
   "metadata": {},
   "source": [
    "This seems like a resolution that suitable to distinguish most of the different cell types in our data. As such, let's try to annotate those by manually using the dotplot above, together with the UMAP of our clusters. Ideally, one would also look specifically into each cluster, and attempt to subcluster those if required."
   ]
  },
  {
   "cell_type": "markdown",
   "id": "b904fd57-ae61-4cfa-acae-82fc36631179",
   "metadata": {},
   "source": [
    "### Differentially-expressed Genes as Markers"
   ]
  },
  {
   "cell_type": "markdown",
   "id": "0578a42c-c43b-484e-8a82-3b9ed188b94c",
   "metadata": {},
   "source": [
    "Furthermore, one can also calculate marker genes per cluster and then look up whether we can link those marker genes to any known biology, such as cell types and/or states. This is typically done using simple statistical tests, such as Wilcoxon and t-test, for each cluster vs the rest."
   ]
  },
  {
   "cell_type": "code",
   "execution_count": null,
   "id": "6b69a65c-199f-4883-9037-1df388b06861",
   "metadata": {},
   "outputs": [],
   "source": [
    "# Obtain cluster-specific differentially expressed genes\n",
    "sc.tl.rank_genes_groups(adata, groupby=\"leiden_res_0.50\", method=\"wilcoxon\")"
   ]
  },
  {
   "cell_type": "markdown",
   "id": "243b74f5-dd51-457d-9715-b9a0ccbfff4a",
   "metadata": {},
   "source": [
    "We can then visualize the top 5 differentially-expressed genes on a dotplot."
   ]
  },
  {
   "cell_type": "code",
   "execution_count": null,
   "id": "adf45dad-5f3d-465b-acd7-aa4f8bc42f65",
   "metadata": {},
   "outputs": [],
   "source": [
    "sc.pl.rank_genes_groups_dotplot(\n",
    "    adata, groupby=\"leiden_res_0.50\", standard_scale=\"var\", n_genes=5\n",
    ")"
   ]
  },
  {
   "cell_type": "markdown",
   "id": "68d847a5-ec6b-4417-91b6-5bd15236783b",
   "metadata": {},
   "source": [
    "with holoviz:"
   ]
  },
  {
   "cell_type": "code",
   "execution_count": null,
   "id": "253fc56f-6107-4a75-9290-c050fcfceb15",
   "metadata": {},
   "outputs": [],
   "source": [
    "# TODO: add dotplot functionality for using `rank_genes_groups_df` to get top n DE genes per leiden cluster\n",
    "# TODO: add dendrogram"
   ]
  },
  {
   "cell_type": "markdown",
   "id": "ee9b9e00",
   "metadata": {},
   "source": [
    "We can then use these genes to figure out what cell types we're looking at. For example, Cluster 7 is expressing [*NKG7*](https://www.genecards.org/cgi-bin/carddisp.pl?gene=NKG7&keywords=nkg7) and [*GNLY*](https://www.genecards.org/cgi-bin/carddisp.pl?gene=GNLY&keywords=GNLY), suggesting these are [NK cells](https://en.wikipedia.org/wiki/Natural_killer_cell)."
   ]
  },
  {
   "cell_type": "markdown",
   "id": "2dd5c7fc",
   "metadata": {},
   "source": [
    "To create your own plots, or use a more automated approach, the differentially expressed genes can be extracted in a convenient format with {func}`scanpy.get.rank_genes_groups_df`"
   ]
  },
  {
   "cell_type": "code",
   "execution_count": null,
   "id": "8fbf24a8",
   "metadata": {},
   "outputs": [],
   "source": [
    "sc.get.rank_genes_groups_df(adata, group=\"7\").head(5)"
   ]
  },
  {
   "cell_type": "code",
   "execution_count": null,
   "id": "ef390e87",
   "metadata": {},
   "outputs": [],
   "source": [
    "dc_cluster_genes = sc.get.rank_genes_groups_df(adata, group=\"7\").head(5)[\"names\"]\n",
    "sc.pl.umap(\n",
    "    adata,\n",
    "    color=[*dc_cluster_genes, \"leiden_res_0.50\"],\n",
    "    legend_loc=\"on data\",\n",
    "    frameon=False,\n",
    "    ncols=3,\n",
    ")"
   ]
  },
  {
   "cell_type": "code",
   "execution_count": null,
   "id": "25dc67f2-5ffe-4575-9926-d14915f9202c",
   "metadata": {},
   "outputs": [],
   "source": [
    "layout = layout_dimreduction_plots(\n",
    "    adata=adata,\n",
    "    color=[*dc_cluster_genes, \"leiden_res_0.50\"],\n",
    "    dimensions=[(0, 1)]*6,\n",
    "    dim_reduction='X_umap',\n",
    "    labels=True,\n",
    ")\n",
    "layout.cols(3)"
   ]
  },
  {
   "cell_type": "markdown",
   "id": "789cdf32",
   "metadata": {},
   "source": [
    "You may have noticed that the p-values found here are extremely low. This is due to the statistical test being performed considering each cell as an independent sample. For a more conservative approach you may want to consider \"pseudo-bulking\" your data by sample (*e.g.* `sc.get.aggregate(adata, by=[\"sample\", \"cell_type\"], func=\"sum\", layer=\"counts\")`) and using a more powerful differential expression tool, like [`pydeseq2`](https://pydeseq2.readthedocs.io/)."
   ]
  },
  {
   "cell_type": "code",
   "execution_count": null,
   "id": "e5d67613-2f29-4237-8bcf-b44f53e0b847",
   "metadata": {},
   "outputs": [],
   "source": []
  },
  {
   "cell_type": "code",
   "execution_count": null,
   "id": "401ab4ac-ca2b-432b-a51e-9de895fc0884",
   "metadata": {},
   "outputs": [],
   "source": []
  },
  {
   "cell_type": "code",
   "execution_count": null,
   "id": "3733e9fa-0a06-43bb-95ca-60b5a8769090",
   "metadata": {},
   "outputs": [],
   "source": []
  }
 ],
 "metadata": {
  "kernelspec": {
   "display_name": "Python 3",
   "language": "python",
   "name": "python3"
  },
  "language_info": {
   "codemirror_mode": {
    "name": "ipython",
    "version": 3
   },
   "file_extension": ".py",
   "mimetype": "text/x-python",
   "name": "python",
   "nbconvert_exporter": "python",
   "pygments_lexer": "ipython3",
   "version": "3.11.9"
  },
  "mystnb": {
   "execution_mode": "off"
  },
  "widgets": {
   "application/vnd.jupyter.widget-state+json": {
    "state": {},
    "version_major": 2,
    "version_minor": 0
   }
  }
 },
 "nbformat": 4,
 "nbformat_minor": 5
}
